{
 "cells": [
  {
   "cell_type": "markdown",
   "metadata": {},
   "source": [
    "# 1 数据说明"
   ]
  },
  {
   "cell_type": "markdown",
   "metadata": {},
   "source": [
    "## 1.1 数据表表述\n",
    "\n",
    "table1_user 训练集中应聘者的信息\n",
    "\n",
    "table2_jd 训练集中工作的信息\n",
    "\n",
    "table3_action 训练集中用户对工作的行为\n",
    "\n",
    "test_user 测试集中的应聘者信息\n",
    "\n",
    "test_action 测试集中应聘者行为"
   ]
  },
  {
   "cell_type": "markdown",
   "metadata": {},
   "source": [
    "## 1.2 数据表中字段说明\n",
    "\n",
    "### 1.2.1 train_user\n",
    "\n",
    "<table>\n",
    "<tr><td>user_id</td><td>用户标识</td><td>object</td>\n",
    "<tr><td>live_city_id</td><td>现居住城市</td><td>int16</td>\n",
    "<tr><td>desire_jd_city_id</td><td>期望工作城市</td><td>object</td>\n",
    "<tr><td>desire_jd_industry_id</td><td>期望工作行业</td><td>object</td>\n",
    "<tr><td>desire_jd_type_id</td><td>期望工作职类</td><td>object</td>\n",
    "<tr><td>desire_jd_salary_id</td><td>期望薪水</td><td>object</td>\n",
    "<tr><td>cur_industry_id</td><td>最近工作行业</td><td>object</td>\n",
    "<tr><td>cur_jd_type</td><td>最近工作职类</td><td>object</td>\n",
    "<tr><td>cur_salary_id</td><td>最近薪水</td><td>object</td>\n",
    "<tr><td>cur_degree_id</td><td>学历</td><td>object</td>\n",
    "<tr><td>birthday</td><td>年龄（虚拟年龄）</td><td>int16</td>\n",
    "<tr><td>start_work_date</td><td>开始工作日期</td><td>object</td>\n",
    "<tr><td>experience</td><td>经验</td><td>object</td>\n",
    "</table>\n",
    "\n",
    "### 1.2.2 train_job\n",
    "\n",
    "<table>\n",
    "<tr><td>jd_no</td><td>职位代码</td><td>object</td>\n",
    "<tr><td>jd_title</td><td>职位标题</td><td>object</td>\n",
    "<tr><td>company_name</td><td>公司（所有行均为空）</td><td>object</td>\n",
    "<tr><td>city</td><td>城市</td><td>int16</td>\n",
    "<tr><td>jd_sub_type</td><td>职位子类</td><td>object</td>\n",
    "<tr><td>require_nums</td><td>需求人数</td><td>int16</td>\n",
    "<tr><td>max_salary</td><td>最高月薪</td><td>object</td>\n",
    "<tr><td>min_salary</td><td>最低月薪</td><td>object</td>\n",
    "<tr><td>start_date</td><td>开始日期</td><td>object</td>\n",
    "<tr><td>end_date</td><td>结束日期</td><td>object</td>\n",
    "<tr><td>is_travel</td><td>是否要出差</td><td>int16</td>\n",
    "<tr><td>min_years</td><td>工作年限</td><td>int16</td>\n",
    "<tr><td>key</td><td>关键字</td><td>object</td>\n",
    "<tr><td>min_edu_level</td><td>最低学历</td><td>object</td>\n",
    "<tr><td>max_edu_level</td><td>最高学历</td><td>object</td>\n",
    "<tr><td>is_mangerial</td><td>是否要求管理经验</td><td>object</td>\n",
    "<tr><td>resume_language_required</td><td>语言需求</td><td>object</td>\n",
    "<tr><td>job_description</td><td>职位描述</td><td>object</td>\n",
    "</table>\n",
    "\n",
    "### 1.2.3 train_action\n",
    "\n",
    "<table>\n",
    "<tr><td>user_id</td><td>用户标示</td><td>object</td>\n",
    "<tr><td>jd_no</td><td>职位代码</td><td>object</td>\n",
    "<tr><td>browsed</td><td>是否浏览</td><td>int16</td>\n",
    "<tr><td>delivered</td><td>是否投递</td><td>int16</td>\n",
    "<tr><td>satisfied</td><td>HR是否认可</td><td>int16</td>\n",
    "</table>\n"
   ]
  },
  {
   "cell_type": "markdown",
   "metadata": {},
   "source": [
    "## 1.3 数据集关系"
   ]
  },
  {
   "cell_type": "code",
   "execution_count": 3,
   "metadata": {},
   "outputs": [
    {
     "name": "stderr",
     "output_type": "stream",
     "text": [
      "Skipping line 173315: expected 18 fields, saw 20\n",
      "\n"
     ]
    }
   ],
   "source": [
    "#Load data\n",
    "import pandas as pd\n",
    "import matplotlib.pyplot as plt\n",
    "import numpy as np\n",
    "\n",
    "pd.set_option('display.max_columns', 1000)\n",
    "pd.set_option('display.width', 1000)\n",
    "\n",
    "data_path = '/Users/botaofan/PycharmProjects/tianchi/zhilian/data/'\n",
    "raw_user_dtype = {'live_city_id': np.int16, 'desire_jd_salary_id': object, 'cur_salary_id': object, 'birthday': np.int16,\n",
    "                      'start_work_date': object, }\n",
    "raw_user = pd.read_csv(data_path + 'table1_user', delimiter='\\t', error_bad_lines=False, dtype=raw_user_dtype)\n",
    "#load train_job\n",
    "raw_job_dtype = {'city': np.int16, 'require_nums': np.int16, 'max_salary': object, 'min_salary': object,\n",
    "                 'start_date': object, 'end_date': object, 'raw_job': np.int16, 'is_travel': np.int16,\n",
    "                 'min_years': np.int16, }\n",
    "raw_job = pd.read_csv(data_path + 'table2_jd', delimiter='\\t', error_bad_lines=False, dtype=raw_job_dtype)\n",
    "#load train_action\n",
    "raw_action_dtype = {'browsed': np.int16, 'delivered': np.int16, 'satisfied': np.int16}\n",
    "raw_action = pd.read_csv(data_path + 'table3_action', delimiter='\\t', error_bad_lines=False, dtype=raw_action_dtype)\n",
    "#load test_user\n",
    "test_user_dtype = {'live_city_id': np.int16, 'desire_jd_salary_id': object, 'cur_salary_id': object, 'birthday': np.int16,\n",
    "                   'start_work_date': object}\n",
    "test_user = pd.read_csv(data_path + \"user_ToBePredicted\", delimiter=\"\\t\", error_bad_lines=False, dtype=test_user_dtype)\n",
    "#load test_action\n",
    "test_action = pd.read_csv(data_path + \"zhaopin_round1_user_exposure_A_20190723.dms\", delim_whitespace=True)"
   ]
  },
  {
   "cell_type": "code",
   "execution_count": 11,
   "metadata": {},
   "outputs": [
    {
     "name": "stdout",
     "output_type": "stream",
     "text": [
      "训练集应聘人数4500, 测试集应聘人数500，测试集中没有在训练集中出现过的人数500\n",
      "训练集职位数265690, 测试集职位数24544，测试集中没有在训练集中出现过的职位数2003, 占比0.081609\n"
     ]
    }
   ],
   "source": [
    "train_user_id = set(raw_user['user_id'])\n",
    "test_user_id = set(test_user['user_id'])\n",
    "user_test_not_in_train = test_user_id - train_user_id\n",
    "print '训练集应聘人数%d, 测试集应聘人数%d，测试集中没有在训练集中出现过的人数%d' %(len(train_user_id), len(test_user_id), len(user_test_not_in_train))\n",
    "train_job_no = set(raw_job['jd_no'])\n",
    "test_job_no = set(test_action['jd_no'])\n",
    "job_test_not_in_train = test_job_no - train_job_no\n",
    "print '训练集职位数%d, 测试集职位数%d，测试集中没有在训练集中出现过的职位数%d, 占比%f' %(len(train_jd_no), len(test_jd_no), len(jd_test_not_in_train),len(jd_test_not_in_train)/(len(test_jd_no)+0.0))"
   ]
  },
  {
   "cell_type": "markdown",
   "metadata": {},
   "source": [
    "### 1.3.1 应聘者情况\n",
    "\n",
    "由上面结果可见，测试集中的500名测试者，均未在训练集中出现过，当然，这也是意料之中的。\n",
    "\n",
    "### 1.3.1 职位情况\n",
    "\n",
    "训练集中职位由26.6万条，在需要排序的测试机中，由2003条职位没有在训练集中出现过。\n",
    "\n"
   ]
  },
  {
   "cell_type": "markdown",
   "metadata": {},
   "source": [
    "# 2 数据探索"
   ]
  },
  {
   "cell_type": "markdown",
   "metadata": {},
   "source": [
    "## 2.1 train_user "
   ]
  },
  {
   "cell_type": "code",
   "execution_count": 13,
   "metadata": {},
   "outputs": [
    {
     "name": "stdout",
     "output_type": "stream",
     "text": [
      "train_user 共有 4500条记录， 13列。\n"
     ]
    }
   ],
   "source": [
    "print \"train_user 共有 %d条记录， %d列。\" %(raw_user.shape[0], raw_user.shape[1])"
   ]
  },
  {
   "cell_type": "code",
   "execution_count": 28,
   "metadata": {},
   "outputs": [],
   "source": [
    "# Function to data exploration and deal with missing data\n",
    "def explory_cate_data(data, col_name, show_min_count=10):\n",
    "    print 'Dtype of %s is %s and number of categoris is %d' % \\\n",
    "          (col_name, data[col_name].dtype, len(data[col_name].unique()))\n",
    "    print 'Category of %s are:' % col_name\n",
    "    cate = data[col_name].unique()\n",
    "    cate.sort()\n",
    "    print cate\n",
    "    print 'Count of every category'\n",
    "    cate_count = data.groupby(col_name)[[col_name]].count()\n",
    "    cate_count.columns = ['count']\n",
    "    cate_count['perc'] = cate_count['count']/(cate_count['count'].sum()+0.0)\n",
    "    cate_count.sort_values('count', ascending=False, inplace=True)\n",
    "    print cate_count[cate_count['count'] >= show_min_count]\n",
    "    return cate_count\n"
   ]
  },
  {
   "cell_type": "markdown",
   "metadata": {},
   "source": [
    "### 2.1.1 live_city_id\n",
    "\n",
    "由结果看，live_city中共有240个城市（其中，由一个应聘者的城市id为0，可能为缺失值），求职者主要集中在几个大城市。\n"
   ]
  },
  {
   "cell_type": "code",
   "execution_count": 29,
   "metadata": {},
   "outputs": [
    {
     "name": "stdout",
     "output_type": "stream",
     "text": [
      "Dtype of live_city_id is int16 and number of categoris is 240\n",
      "Category of live_city_id are:\n",
      "[    0   480   530   531   533   534   535   536   538   539   540   542\n",
      "   545   546   547   548   550   551   552   553   565   566   567   568\n",
      "   569   570   571   572   573   574   575   576   577   578   579   580\n",
      "   582   583   584   585   586   587   588   590   592   593   596   599\n",
      "   600   601   603   604   605   606   608   609   610   611   612   613\n",
      "   614   615   617   618   619   621   622   625   627   631   632   634\n",
      "   635   636   637   638   639   640   641   642   643   644   645   646\n",
      "   647   648   653   654   655   656   657   658   659   660   662   664\n",
      "   665   666   668   671   672   673   674   675   677   681   682   683\n",
      "   684   685   688   691   692   694   697   698   699   700   701   702\n",
      "   703   704   705   706   707   708   709   710   711   713   714   716\n",
      "   717   718   719   720   721   722   723   724   725   726   727   728\n",
      "   730   731   732   733   734   735   736   737   739   740   742   743\n",
      "   744   745   747   748   749   752   754   757   758   759   761   763\n",
      "   765   766   767   768   769   770   771   772   773   778   779   780\n",
      "   783   785   789   790   791   792   799   800   801   804   805   806\n",
      "   807   809   810   811   812   813   814   817   818   820   822   823\n",
      "   824   827   828   830   831   836   841   847   854   855   856   857\n",
      "   858   859   860   861   863   864   866   867   868   871   873   874\n",
      "   875   878   879   886   890   933 10070 10168 10169 10185 10186 10201]\n",
      "Count of every category\n",
      "              count      perc\n",
      "live_city_id                 \n",
      "530             597  0.132667\n",
      "801             348  0.077333\n",
      "538             256  0.056889\n",
      "719             240  0.053333\n",
      "854             237  0.052667\n",
      "531             181  0.040222\n",
      "599             181  0.040222\n",
      "763             178  0.039556\n",
      "765             166  0.036889\n",
      "736             162  0.036000\n",
      "653             109  0.024222\n",
      "551             109  0.024222\n",
      "565             104  0.023111\n",
      "613              99  0.022000\n",
      "702              90  0.020000\n",
      "635              84  0.018667\n",
      "703              71  0.015778\n",
      "600              67  0.014889\n",
      "622              57  0.012667\n",
      "749              57  0.012667\n",
      "664              56  0.012444\n",
      "576              51  0.011333\n",
      "822              45  0.010000\n",
      "639              43  0.009556\n",
      "636              31  0.006889\n",
      "574              30  0.006667\n",
      "768              28  0.006222\n",
      "570              26  0.005778\n",
      "587              23  0.005111\n",
      "691              21  0.004667\n",
      "707              20  0.004444\n",
      "682              20  0.004444\n",
      "681              19  0.004222\n",
      "637              17  0.003778\n",
      "831              17  0.003778\n",
      "641              16  0.003556\n",
      "799              14  0.003111\n",
      "708              13  0.002889\n",
      "721              13  0.002889\n",
      "723              13  0.002889\n",
      "890              12  0.002667\n",
      "779              12  0.002667\n",
      "566              11  0.002444\n",
      "864              11  0.002444\n",
      "780              10  0.002222\n",
      "654              10  0.002222\n",
      "725              10  0.002222\n",
      "773              10  0.002222\n"
     ]
    },
    {
     "data": {
      "text/plain": [
       "<matplotlib.axes._subplots.AxesSubplot at 0x116b3c610>"
      ]
     },
     "execution_count": 29,
     "metadata": {},
     "output_type": "execute_result"
    },
    {
     "data": {
      "image/png": "[encoded data removed]",
      "text/plain": [
       "<Figure size 432x288 with 1 Axes>"
      ]
     },
     "metadata": {
      "needs_background": "light"
     },
     "output_type": "display_data"
    }
   ],
   "source": [
    "count_result = explory_cate_data(raw_user, 'live_city_id')\n",
    "count_result['count'].hist(bins =30)"
   ]
  },
  {
   "cell_type": "markdown",
   "metadata": {},
   "source": [
    "我们来用同样的方式对比一下线上测试集中应聘者的城市分布，可见前三个强城市：530，801，854三个的比例在训练集和测试集中比较相似，这三个可能是北上广？"
   ]
  },
  {
   "cell_type": "code",
   "execution_count": 30,
   "metadata": {},
   "outputs": [
    {
     "name": "stdout",
     "output_type": "stream",
     "text": [
      "Dtype of live_city_id is int16 and number of categoris is 86\n",
      "Category of live_city_id are:\n",
      "[530 531 538 541 551 565 566 567 569 570 571 572 573 574 575 576 587 588\n",
      " 599 600 608 613 614 622 624 631 635 636 638 639 640 641 642 643 645 647\n",
      " 653 657 658 664 665 677 681 682 702 703 704 707 708 714 719 720 721 723\n",
      " 727 732 736 739 743 749 752 755 763 765 766 768 773 774 779 799 801 807\n",
      " 808 811 813 822 824 831 854 857 858 864 868 873 886 899]\n",
      "Count of every category\n",
      "              count   perc\n",
      "live_city_id              \n",
      "530              64  0.128\n",
      "801              36  0.072\n",
      "854              35  0.070\n",
      "538              33  0.066\n",
      "765              26  0.052\n",
      "763              26  0.052\n",
      "531              23  0.046\n",
      "736              23  0.046\n",
      "719              17  0.034\n",
      "565              15  0.030\n",
      "551              13  0.026\n",
      "702              12  0.024\n",
      "599              11  0.022\n",
      "635              10  0.020\n"
     ]
    },
    {
     "data": {
      "text/plain": [
       "<matplotlib.axes._subplots.AxesSubplot at 0x116b6ea50>"
      ]
     },
     "execution_count": 30,
     "metadata": {},
     "output_type": "execute_result"
    },
    {
     "data": {
      "image/png": "[encoded data removed]",
      "text/plain": [
       "<Figure size 432x288 with 1 Axes>"
      ]
     },
     "metadata": {
      "needs_background": "light"
     },
     "output_type": "display_data"
    }
   ],
   "source": [
    "count_result = explory_cate_data(test_user, 'live_city_id')\n",
    "count_result['count'].hist(bins =30)"
   ]
  },
  {
   "cell_type": "markdown",
   "metadata": {},
   "source": [
    "###  2.1.2 desire_jd_city_id\n",
    "\n",
    "由于给特征给了应聘者三个工作地备选项，因此，需要处理，将该特征一分为三。\n",
    "对于手个desired job city , 只有极少空缺（10个以下），而第二个，第三个，在意料之中的，就有很多了。\n",
    "在后面的处理中，我们会把 \"-\" 和 0均用np.nan替换，并且将其他的值的dtype改为np.int16。（由于我们可能用lgb/xgb所以，可能不对nan做过多处理）\n",
    "显然，desire_jd_city_id可以和前面的live_city_id交叉构造几个特征：\n",
    "desire_jd_city_id非nan数量，disire_jd_city_id_0/1/2是否和live_city_id 相同，类似的，更要看这几个city是否和job city相同。\n",
    "另外，根据city本身的属性，可以将city划分为是否热门城市（即大城市或一线、准一线城市），构造相应特征，看能否得出有效信息。"
   ]
  },
  {
   "cell_type": "code",
   "execution_count": 32,
   "metadata": {},
   "outputs": [],
   "source": [
    "tmp = raw_user['desire_jd_city_id'].str.split(',')\n",
    "raw_user['desire_jd_city_id_0'] = tmp.apply(lambda x: x[0])\n",
    "raw_user['desire_jd_city_id_1'] = tmp.apply(lambda x: x[1])\n",
    "raw_user['desire_jd_city_id_2'] = tmp.apply(lambda x: x[2])"
   ]
  },
  {
   "cell_type": "code",
   "execution_count": 33,
   "metadata": {},
   "outputs": [
    {
     "name": "stdout",
     "output_type": "stream",
     "text": [
      "Dtype of desire_jd_city_id_0 is object and number of categoris is 197\n",
      "Category of desire_jd_city_id_0 are:\n",
      "['-' '0' '10169' '10185' '103147' '2025' '2566' '2576' '3773' '3809'\n",
      " '3927' '3947' '3987' '4367' '4421' '4432' '480' '489' '4974' '5013' '508'\n",
      " '5085' '512' '516' '517' '526' '530' '531' '532' '533' '534' '535' '536'\n",
      " '537' '538' '539' '540' '541' '542' '543' '544' '545' '546' '547' '548'\n",
      " '550' '551' '552' '553' '556' '557' '560' '565' '566' '567' '568' '569'\n",
      " '570' '571' '574' '575' '576' '577' '584' '585' '586' '587' '588' '590'\n",
      " '592' '596' '599' '600' '601' '606' '611' '612' '613' '614' '615' '617'\n",
      " '618' '619' '622' '627' '631' '635' '636' '637' '638' '639' '640' '641'\n",
      " '643' '644' '645' '646' '648' '653' '654' '655' '656' '657' '658' '659'\n",
      " '662' '664' '665' '672' '673' '674' '681' '682' '683' '685' '687' '688'\n",
      " '691' '694' '697' '701' '702' '703' '704' '707' '708' '709' '710' '711'\n",
      " '714' '715' '717' '718' '719' '720' '721' '722' '723' '724' '725' '726'\n",
      " '727' '731' '732' '733' '734' '736' '739' '740' '743' '744' '745' '746'\n",
      " '747' '748' '749' '752' '754' '761' '763' '765' '766' '768' '770' '772'\n",
      " '773' '779' '780' '785' '791' '799' '800' '801' '805' '806' '807' '809'\n",
      " '810' '813' '814' '817' '822' '823' '824' '828' '831' '841' '854' '856'\n",
      " '857' '858' '859' '864' '878' '886' '890' '903']\n",
      "Count of every category\n",
      "                     count      perc\n",
      "desire_jd_city_id_0                 \n",
      "530                    651  0.144667\n",
      "801                    336  0.074667\n",
      "538                    300  0.066667\n",
      "854                    238  0.052889\n",
      "719                    231  0.051333\n",
      "531                    184  0.040889\n",
      "763                    184  0.040889\n",
      "765                    177  0.039333\n",
      "599                    171  0.038000\n",
      "736                    163  0.036222\n",
      "551                    113  0.025111\n",
      "653                    109  0.024222\n",
      "613                    101  0.022444\n",
      "565                     97  0.021556\n",
      "635                     78  0.017333\n",
      "702                     74  0.016444\n",
      "703                     64  0.014222\n",
      "600                     60  0.013333\n",
      "749                     54  0.012000\n",
      "576                     49  0.010889\n",
      "622                     48  0.010667\n",
      "664                     47  0.010444\n",
      "639                     45  0.010000\n",
      "548                     43  0.009556\n",
      "539                     40  0.008889\n",
      "822                     40  0.008889\n",
      "552                     30  0.006667\n",
      "545                     30  0.006667\n",
      "535                     28  0.006222\n",
      "544                     26  0.005778\n",
      "682                     23  0.005111\n",
      "691                     22  0.004889\n",
      "636                     22  0.004889\n",
      "489                     19  0.004222\n",
      "831                     19  0.004222\n",
      "681                     18  0.004000\n",
      "556                     18  0.004000\n",
      "574                     18  0.004000\n",
      "587                     17  0.003778\n",
      "546                     17  0.003778\n",
      "707                     16  0.003556\n",
      "768                     15  0.003333\n",
      "532                     15  0.003333\n",
      "570                     12  0.002667\n",
      "654                     12  0.002667\n",
      "708                     12  0.002667\n",
      "779                     11  0.002444\n",
      "553                     11  0.002444\n",
      "890                     10  0.002222\n",
      "550                     10  0.002222\n",
      "799                     10  0.002222\n",
      "541                     10  0.002222\n",
      "533                     10  0.002222\n",
      "Dtype of desire_jd_city_id_1 is object and number of categoris is 134\n",
      "Category of desire_jd_city_id_1 are:\n",
      "['-' '10070' '2623' '2709' '3811' '3942' '3965' '4667' '4678' '480' '482'\n",
      " '489' '499' '500' '501' '505' '512' '530' '531' '532' '533' '534' '535'\n",
      " '536' '537' '538' '539' '540' '541' '542' '543' '544' '545' '546' '547'\n",
      " '548' '549' '550' '551' '552' '553' '554' '555' '556' '557' '560' '565'\n",
      " '567' '569' '570' '571' '574' '576' '582' '587' '593' '599' '600' '605'\n",
      " '607' '613' '614' '615' '622' '635' '636' '638' '639' '640' '641' '644'\n",
      " '653' '655' '657' '659' '662' '664' '680' '681' '682' '685' '691' '694'\n",
      " '697' '698' '702' '703' '704' '708' '716' '719' '720' '721' '723' '725'\n",
      " '727' '732' '736' '738' '742' '749' '750' '763' '765' '766' '767' '768'\n",
      " '769' '770' '772' '773' '778' '779' '780' '799' '801' '804' '805' '806'\n",
      " '810' '811' '812' '813' '818' '828' '854' '856' '857' '858' '864' '890'\n",
      " '894' '918' '930']\n",
      "Count of every category\n",
      "                     count      perc\n",
      "desire_jd_city_id_1                 \n",
      "-                     3730  0.828889\n",
      "530                    106  0.023556\n",
      "538                     47  0.010444\n",
      "531                     43  0.009556\n",
      "765                     33  0.007333\n",
      "763                     31  0.006889\n",
      "801                     27  0.006000\n",
      "653                     27  0.006000\n",
      "719                     25  0.005556\n",
      "539                     25  0.005556\n",
      "635                     19  0.004222\n",
      "736                     16  0.003556\n",
      "532                     16  0.003556\n",
      "854                     15  0.003333\n",
      "551                     15  0.003333\n",
      "639                     15  0.003333\n",
      "599                     14  0.003111\n",
      "768                     12  0.002667\n",
      "565                     12  0.002667\n",
      "540                     12  0.002667\n",
      "703                     11  0.002444\n",
      "Dtype of desire_jd_city_id_2 is object and number of categoris is 91\n",
      "Category of desire_jd_city_id_2 are:\n",
      "['-' '480' '501' '505' '508' '512' '518' '529' '530' '531' '532' '535'\n",
      " '536' '537' '538' '539' '540' '541' '542' '543' '544' '545' '546' '548'\n",
      " '549' '550' '551' '552' '554' '555' '558' '560' '562' '565' '566' '567'\n",
      " '568' '570' '572' '574' '576' '577' '588' '599' '600' '606' '609' '613'\n",
      " '635' '636' '637' '638' '639' '643' '653' '657' '659' '664' '682' '683'\n",
      " '699' '702' '703' '711' '718' '719' '720' '724' '733' '736' '749' '763'\n",
      " '765' '766' '768' '769' '773' '779' '780' '781' '801' '805' '806' '810'\n",
      " '822' '854' '857' '860' '864' '878' '893']\n",
      "Count of every category\n",
      "                     count      perc\n",
      "desire_jd_city_id_2                 \n",
      "-                     4089  0.908667\n",
      "530                     39  0.008667\n",
      "765                     23  0.005111\n",
      "531                     23  0.005111\n",
      "538                     23  0.005111\n",
      "540                     19  0.004222\n",
      "532                     17  0.003778\n",
      "763                     16  0.003556\n",
      "801                     16  0.003556\n",
      "548                     15  0.003333\n",
      "653                     14  0.003111\n",
      "736                     13  0.002889\n",
      "635                     10  0.002222\n",
      "544                     10  0.002222\n"
     ]
    },
    {
     "data": {
      "text/plain": [
       "<matplotlib.axes._subplots.AxesSubplot at 0x1176dec50>"
      ]
     },
     "execution_count": 33,
     "metadata": {},
     "output_type": "execute_result"
    },
    {
     "data": {
      "image/png": "[encoded data removed]",
      "text/plain": [
       "<Figure size 432x288 with 1 Axes>"
      ]
     },
     "metadata": {
      "needs_background": "light"
     },
     "output_type": "display_data"
    }
   ],
   "source": [
    "count_result = explory_cate_data(raw_user, 'desire_jd_city_id_0')\n",
    "count_result['count'].hist(bins =30)\n",
    "count_result = explory_cate_data(raw_user, 'desire_jd_city_id_1')\n",
    "count_result['count'].hist(bins =30)\n",
    "count_result = explory_cate_data(raw_user, 'desire_jd_city_id_2')\n",
    "count_result['count'].hist(bins =30)"
   ]
  },
  {
   "cell_type": "code",
   "execution_count": null,
   "metadata": {},
   "outputs": [],
   "source": []
  }
 ],
 "metadata": {
  "kernelspec": {
   "display_name": "Python 2",
   "language": "python",
   "name": "python2"
  },
  "language_info": {
   "codemirror_mode": {
    "name": "ipython",
    "version": 2
   },
   "file_extension": ".py",
   "mimetype": "text/x-python",
   "name": "python",
   "nbconvert_exporter": "python",
   "pygments_lexer": "ipython2",
   "version": "2.7.16"
  }
 },
 "nbformat": 4,
 "nbformat_minor": 2
}
